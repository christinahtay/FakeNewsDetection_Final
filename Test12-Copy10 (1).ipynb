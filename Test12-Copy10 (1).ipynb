{
 "cells": [
  {
   "cell_type": "code",
   "execution_count": 1,
   "id": "1a5ae323",
   "metadata": {},
   "outputs": [
    {
     "name": "stderr",
     "output_type": "stream",
     "text": [
      "2023-09-03 02:00:37.026483: I tensorflow/core/util/port.cc:110] oneDNN custom operations are on. You may see slightly different numerical results due to floating-point round-off errors from different computation orders. To turn them off, set the environment variable `TF_ENABLE_ONEDNN_OPTS=0`.\n",
      "2023-09-03 02:00:37.027481: I tensorflow/tsl/cuda/cudart_stub.cc:28] Could not find cuda drivers on your machine, GPU will not be used.\n",
      "2023-09-03 02:00:37.051242: I tensorflow/tsl/cuda/cudart_stub.cc:28] Could not find cuda drivers on your machine, GPU will not be used.\n",
      "2023-09-03 02:00:37.051815: I tensorflow/core/platform/cpu_feature_guard.cc:182] This TensorFlow binary is optimized to use available CPU instructions in performance-critical operations.\n",
      "To enable the following instructions: AVX2 AVX_VNNI FMA, in other operations, rebuild TensorFlow with the appropriate compiler flags.\n",
      "2023-09-03 02:00:37.523137: W tensorflow/compiler/tf2tensorrt/utils/py_utils.cc:38] TF-TRT Warning: Could not find TensorRT\n",
      "[nltk_data] Downloading package stopwords to /home/phyu/nltk_data...\n",
      "[nltk_data]   Package stopwords is already up-to-date!\n"
     ]
    },
    {
     "data": {
      "text/plain": [
       "True"
      ]
     },
     "execution_count": 1,
     "metadata": {},
     "output_type": "execute_result"
    }
   ],
   "source": [
    "#This one is the clean version LSTM for Text Fake New Detection\n",
    "\n",
    "#!pip install tensorflow\n",
    "\n",
    "import tensorflow as tf\n",
    "\n",
    "from tensorflow.keras.preprocessing.text import Tokenizer\n",
    "import pandas as pd \n",
    "import numpy as np\n",
    "from tensorflow.keras.preprocessing.sequence import pad_sequences\n",
    "from nltk.corpus import stopwords\n",
    "from nltk.stem.porter import PorterStemmer\n",
    "import nltk\n",
    "nltk.download('stopwords')"
   ]
  },
  {
   "cell_type": "code",
   "execution_count": 2,
   "id": "007e8e25",
   "metadata": {},
   "outputs": [
    {
     "data": {
      "text/html": [
       "<div>\n",
       "<style scoped>\n",
       "    .dataframe tbody tr th:only-of-type {\n",
       "        vertical-align: middle;\n",
       "    }\n",
       "\n",
       "    .dataframe tbody tr th {\n",
       "        vertical-align: top;\n",
       "    }\n",
       "\n",
       "    .dataframe thead th {\n",
       "        text-align: right;\n",
       "    }\n",
       "</style>\n",
       "<table border=\"1\" class=\"dataframe\">\n",
       "  <thead>\n",
       "    <tr style=\"text-align: right;\">\n",
       "      <th></th>\n",
       "      <th>Unnamed: 0</th>\n",
       "      <th>title</th>\n",
       "      <th>text</th>\n",
       "      <th>label</th>\n",
       "    </tr>\n",
       "  </thead>\n",
       "  <tbody>\n",
       "    <tr>\n",
       "      <th>0</th>\n",
       "      <td>0</td>\n",
       "      <td>LAW ENFORCEMENT ON HIGH ALERT Following Threat...</td>\n",
       "      <td>No comment is expected from Barack Obama Membe...</td>\n",
       "      <td>1</td>\n",
       "    </tr>\n",
       "    <tr>\n",
       "      <th>1</th>\n",
       "      <td>1</td>\n",
       "      <td>NaN</td>\n",
       "      <td>Did they post their votes for Hillary already?</td>\n",
       "      <td>1</td>\n",
       "    </tr>\n",
       "    <tr>\n",
       "      <th>2</th>\n",
       "      <td>2</td>\n",
       "      <td>UNBELIEVABLE! OBAMA’S ATTORNEY GENERAL SAYS MO...</td>\n",
       "      <td>Now, most of the demonstrators gathered last ...</td>\n",
       "      <td>1</td>\n",
       "    </tr>\n",
       "    <tr>\n",
       "      <th>3</th>\n",
       "      <td>3</td>\n",
       "      <td>Bobby Jindal, raised Hindu, uses story of Chri...</td>\n",
       "      <td>A dozen politically active pastors came here f...</td>\n",
       "      <td>0</td>\n",
       "    </tr>\n",
       "    <tr>\n",
       "      <th>4</th>\n",
       "      <td>4</td>\n",
       "      <td>SATAN 2: Russia unvelis an image of its terrif...</td>\n",
       "      <td>The RS-28 Sarmat missile, dubbed Satan 2, will...</td>\n",
       "      <td>1</td>\n",
       "    </tr>\n",
       "  </tbody>\n",
       "</table>\n",
       "</div>"
      ],
      "text/plain": [
       "   Unnamed: 0                                              title  \\\n",
       "0           0  LAW ENFORCEMENT ON HIGH ALERT Following Threat...   \n",
       "1           1                                                NaN   \n",
       "2           2  UNBELIEVABLE! OBAMA’S ATTORNEY GENERAL SAYS MO...   \n",
       "3           3  Bobby Jindal, raised Hindu, uses story of Chri...   \n",
       "4           4  SATAN 2: Russia unvelis an image of its terrif...   \n",
       "\n",
       "                                                text  label  \n",
       "0  No comment is expected from Barack Obama Membe...      1  \n",
       "1     Did they post their votes for Hillary already?      1  \n",
       "2   Now, most of the demonstrators gathered last ...      1  \n",
       "3  A dozen politically active pastors came here f...      0  \n",
       "4  The RS-28 Sarmat missile, dubbed Satan 2, will...      1  "
      ]
     },
     "execution_count": 2,
     "metadata": {},
     "output_type": "execute_result"
    }
   ],
   "source": [
    "df = pd.read_csv(r\"/home/phyu/Eimon/Pioneer/Data/archive_3/WELFake_Dataset.csv\")\n",
    "df.head()\n"
   ]
  },
  {
   "cell_type": "code",
   "execution_count": 3,
   "id": "723014c6",
   "metadata": {},
   "outputs": [
    {
     "data": {
      "text/plain": [
       "(72134, 4)"
      ]
     },
     "execution_count": 3,
     "metadata": {},
     "output_type": "execute_result"
    }
   ],
   "source": [
    "np.shape(df)\n",
    "\n"
   ]
  },
  {
   "cell_type": "code",
   "execution_count": 4,
   "id": "b0b760a7",
   "metadata": {},
   "outputs": [],
   "source": [
    "x = list(range(10000,72133))"
   ]
  },
  {
   "cell_type": "code",
   "execution_count": 5,
   "id": "90cba368",
   "metadata": {},
   "outputs": [
    {
     "data": {
      "text/plain": [
       "(10001, 4)"
      ]
     },
     "execution_count": 5,
     "metadata": {},
     "output_type": "execute_result"
    }
   ],
   "source": [
    "df1 = df.drop(df.index[x])\n",
    "np.shape(df1)"
   ]
  },
  {
   "cell_type": "code",
   "execution_count": 6,
   "id": "417ba326",
   "metadata": {},
   "outputs": [],
   "source": [
    "x2 = list(range(0,64133))"
   ]
  },
  {
   "cell_type": "code",
   "execution_count": 7,
   "id": "3bc054cc",
   "metadata": {},
   "outputs": [
    {
     "data": {
      "text/plain": [
       "(8001, 4)"
      ]
     },
     "execution_count": 7,
     "metadata": {},
     "output_type": "execute_result"
    }
   ],
   "source": [
    "df2 = df.drop(df.index[x2])\n",
    "np.shape(df2)"
   ]
  },
  {
   "cell_type": "code",
   "execution_count": 8,
   "id": "d2bf2507",
   "metadata": {},
   "outputs": [],
   "source": [
    "x3 = list(range(0,42133)) + list(range(50133,72133))"
   ]
  },
  {
   "cell_type": "code",
   "execution_count": 9,
   "id": "4beb171c",
   "metadata": {},
   "outputs": [
    {
     "data": {
      "text/plain": [
       "(8001, 4)"
      ]
     },
     "execution_count": 9,
     "metadata": {},
     "output_type": "execute_result"
    }
   ],
   "source": [
    "df3 = df.drop(df.index[x3])\n",
    "np.shape(df3)"
   ]
  },
  {
   "cell_type": "code",
   "execution_count": 10,
   "id": "bd38da26",
   "metadata": {},
   "outputs": [
    {
     "data": {
      "text/html": [
       "<div>\n",
       "<style scoped>\n",
       "    .dataframe tbody tr th:only-of-type {\n",
       "        vertical-align: middle;\n",
       "    }\n",
       "\n",
       "    .dataframe tbody tr th {\n",
       "        vertical-align: top;\n",
       "    }\n",
       "\n",
       "    .dataframe thead th {\n",
       "        text-align: right;\n",
       "    }\n",
       "</style>\n",
       "<table border=\"1\" class=\"dataframe\">\n",
       "  <thead>\n",
       "    <tr style=\"text-align: right;\">\n",
       "      <th></th>\n",
       "      <th>Unnamed: 0</th>\n",
       "      <th>title</th>\n",
       "      <th>text</th>\n",
       "      <th>label</th>\n",
       "    </tr>\n",
       "  </thead>\n",
       "  <tbody>\n",
       "    <tr>\n",
       "      <th>0</th>\n",
       "      <td>0</td>\n",
       "      <td>LAW ENFORCEMENT ON HIGH ALERT Following Threat...</td>\n",
       "      <td>No comment is expected from Barack Obama Membe...</td>\n",
       "      <td>1</td>\n",
       "    </tr>\n",
       "    <tr>\n",
       "      <th>2</th>\n",
       "      <td>2</td>\n",
       "      <td>UNBELIEVABLE! OBAMA’S ATTORNEY GENERAL SAYS MO...</td>\n",
       "      <td>Now, most of the demonstrators gathered last ...</td>\n",
       "      <td>1</td>\n",
       "    </tr>\n",
       "    <tr>\n",
       "      <th>3</th>\n",
       "      <td>3</td>\n",
       "      <td>Bobby Jindal, raised Hindu, uses story of Chri...</td>\n",
       "      <td>A dozen politically active pastors came here f...</td>\n",
       "      <td>0</td>\n",
       "    </tr>\n",
       "    <tr>\n",
       "      <th>4</th>\n",
       "      <td>4</td>\n",
       "      <td>SATAN 2: Russia unvelis an image of its terrif...</td>\n",
       "      <td>The RS-28 Sarmat missile, dubbed Satan 2, will...</td>\n",
       "      <td>1</td>\n",
       "    </tr>\n",
       "    <tr>\n",
       "      <th>5</th>\n",
       "      <td>5</td>\n",
       "      <td>About Time! Christian Group Sues Amazon and SP...</td>\n",
       "      <td>All we can say on this one is it s about time ...</td>\n",
       "      <td>1</td>\n",
       "    </tr>\n",
       "  </tbody>\n",
       "</table>\n",
       "</div>"
      ],
      "text/plain": [
       "   Unnamed: 0                                              title  \\\n",
       "0           0  LAW ENFORCEMENT ON HIGH ALERT Following Threat...   \n",
       "2           2  UNBELIEVABLE! OBAMA’S ATTORNEY GENERAL SAYS MO...   \n",
       "3           3  Bobby Jindal, raised Hindu, uses story of Chri...   \n",
       "4           4  SATAN 2: Russia unvelis an image of its terrif...   \n",
       "5           5  About Time! Christian Group Sues Amazon and SP...   \n",
       "\n",
       "                                                text  label  \n",
       "0  No comment is expected from Barack Obama Membe...      1  \n",
       "2   Now, most of the demonstrators gathered last ...      1  \n",
       "3  A dozen politically active pastors came here f...      0  \n",
       "4  The RS-28 Sarmat missile, dubbed Satan 2, will...      1  \n",
       "5  All we can say on this one is it s about time ...      1  "
      ]
     },
     "execution_count": 10,
     "metadata": {},
     "output_type": "execute_result"
    }
   ],
   "source": [
    "df1.dropna(inplace=True)\n",
    "df1.head()"
   ]
  },
  {
   "cell_type": "code",
   "execution_count": 11,
   "id": "82f5683e",
   "metadata": {},
   "outputs": [
    {
     "data": {
      "text/html": [
       "<div>\n",
       "<style scoped>\n",
       "    .dataframe tbody tr th:only-of-type {\n",
       "        vertical-align: middle;\n",
       "    }\n",
       "\n",
       "    .dataframe tbody tr th {\n",
       "        vertical-align: top;\n",
       "    }\n",
       "\n",
       "    .dataframe thead th {\n",
       "        text-align: right;\n",
       "    }\n",
       "</style>\n",
       "<table border=\"1\" class=\"dataframe\">\n",
       "  <thead>\n",
       "    <tr style=\"text-align: right;\">\n",
       "      <th></th>\n",
       "      <th>Unnamed: 0</th>\n",
       "      <th>title</th>\n",
       "      <th>text</th>\n",
       "      <th>label</th>\n",
       "    </tr>\n",
       "  </thead>\n",
       "  <tbody>\n",
       "    <tr>\n",
       "      <th>64133</th>\n",
       "      <td>64133</td>\n",
       "      <td>Over 20 Injured, Almost 40 Detained in Venezue...</td>\n",
       "      <td>— Alfredo Romero (@alfredoromero) October 26, ...</td>\n",
       "      <td>1</td>\n",
       "    </tr>\n",
       "    <tr>\n",
       "      <th>64134</th>\n",
       "      <td>64134</td>\n",
       "      <td>From Monster to Mr. President-Elect: Democrats...</td>\n",
       "      <td>From Monster to Mr. President-Elect: Democrat...</td>\n",
       "      <td>1</td>\n",
       "    </tr>\n",
       "    <tr>\n",
       "      <th>64135</th>\n",
       "      <td>64135</td>\n",
       "      <td>Boy wearing a ‘My dad is an ATM’ T-shirt chase...</td>\n",
       "      <td>Boy wearing a ‘My dad is an ATM’ T-shirt chase...</td>\n",
       "      <td>1</td>\n",
       "    </tr>\n",
       "    <tr>\n",
       "      <th>64136</th>\n",
       "      <td>64136</td>\n",
       "      <td>How to Survive Being an Airbnb Host - The New ...</td>\n",
       "      <td>After my first Airbnb guests checked out of ou...</td>\n",
       "      <td>0</td>\n",
       "    </tr>\n",
       "    <tr>\n",
       "      <th>64137</th>\n",
       "      <td>64137</td>\n",
       "      <td>Fighting in Ukraine May Complicate U.S. Thaw W...</td>\n",
       "      <td>MOSCOW  —   The war in eastern Ukraine that si...</td>\n",
       "      <td>0</td>\n",
       "    </tr>\n",
       "  </tbody>\n",
       "</table>\n",
       "</div>"
      ],
      "text/plain": [
       "       Unnamed: 0                                              title  \\\n",
       "64133       64133  Over 20 Injured, Almost 40 Detained in Venezue...   \n",
       "64134       64134  From Monster to Mr. President-Elect: Democrats...   \n",
       "64135       64135  Boy wearing a ‘My dad is an ATM’ T-shirt chase...   \n",
       "64136       64136  How to Survive Being an Airbnb Host - The New ...   \n",
       "64137       64137  Fighting in Ukraine May Complicate U.S. Thaw W...   \n",
       "\n",
       "                                                    text  label  \n",
       "64133  — Alfredo Romero (@alfredoromero) October 26, ...      1  \n",
       "64134   From Monster to Mr. President-Elect: Democrat...      1  \n",
       "64135  Boy wearing a ‘My dad is an ATM’ T-shirt chase...      1  \n",
       "64136  After my first Airbnb guests checked out of ou...      0  \n",
       "64137  MOSCOW  —   The war in eastern Ukraine that si...      0  "
      ]
     },
     "execution_count": 11,
     "metadata": {},
     "output_type": "execute_result"
    }
   ],
   "source": [
    "df2.dropna(inplace=True)\n",
    "df2.head()"
   ]
  },
  {
   "cell_type": "code",
   "execution_count": 12,
   "id": "76186a18",
   "metadata": {},
   "outputs": [
    {
     "data": {
      "text/html": [
       "<div>\n",
       "<style scoped>\n",
       "    .dataframe tbody tr th:only-of-type {\n",
       "        vertical-align: middle;\n",
       "    }\n",
       "\n",
       "    .dataframe tbody tr th {\n",
       "        vertical-align: top;\n",
       "    }\n",
       "\n",
       "    .dataframe thead th {\n",
       "        text-align: right;\n",
       "    }\n",
       "</style>\n",
       "<table border=\"1\" class=\"dataframe\">\n",
       "  <thead>\n",
       "    <tr style=\"text-align: right;\">\n",
       "      <th></th>\n",
       "      <th>Unnamed: 0</th>\n",
       "      <th>title</th>\n",
       "      <th>text</th>\n",
       "      <th>label</th>\n",
       "    </tr>\n",
       "  </thead>\n",
       "  <tbody>\n",
       "    <tr>\n",
       "      <th>42133</th>\n",
       "      <td>42133</td>\n",
       "      <td>Want a Zika Test? It’s Not Easy - The New York...</td>\n",
       "      <td>MIAMI  —   After returning from a honeymoon in...</td>\n",
       "      <td>0</td>\n",
       "    </tr>\n",
       "    <tr>\n",
       "      <th>42134</th>\n",
       "      <td>42134</td>\n",
       "      <td>Rising Tumult Over Principal at Elite Queens H...</td>\n",
       "      <td>There has been a   and a rally, an allegation ...</td>\n",
       "      <td>0</td>\n",
       "    </tr>\n",
       "    <tr>\n",
       "      <th>42135</th>\n",
       "      <td>42135</td>\n",
       "      <td>APER Releasing the Arrivals</td>\n",
       "      <td>Support Us APER Releasing the Arrivals \\nMail ...</td>\n",
       "      <td>1</td>\n",
       "    </tr>\n",
       "    <tr>\n",
       "      <th>42136</th>\n",
       "      <td>42136</td>\n",
       "      <td>Hacker Guccifer 2.0 Says Election Could Be Rig...</td>\n",
       "      <td>Pin \\n( ZHE ) Before the recent torrent of dai...</td>\n",
       "      <td>1</td>\n",
       "    </tr>\n",
       "    <tr>\n",
       "      <th>42137</th>\n",
       "      <td>42137</td>\n",
       "      <td>Senate intelligence panel to probe Russia hacking</td>\n",
       "      <td>WASHINGTON (Reuters) - The leaders of the Sena...</td>\n",
       "      <td>0</td>\n",
       "    </tr>\n",
       "  </tbody>\n",
       "</table>\n",
       "</div>"
      ],
      "text/plain": [
       "       Unnamed: 0                                              title  \\\n",
       "42133       42133  Want a Zika Test? It’s Not Easy - The New York...   \n",
       "42134       42134  Rising Tumult Over Principal at Elite Queens H...   \n",
       "42135       42135                        APER Releasing the Arrivals   \n",
       "42136       42136  Hacker Guccifer 2.0 Says Election Could Be Rig...   \n",
       "42137       42137  Senate intelligence panel to probe Russia hacking   \n",
       "\n",
       "                                                    text  label  \n",
       "42133  MIAMI  —   After returning from a honeymoon in...      0  \n",
       "42134  There has been a   and a rally, an allegation ...      0  \n",
       "42135  Support Us APER Releasing the Arrivals \\nMail ...      1  \n",
       "42136  Pin \\n( ZHE ) Before the recent torrent of dai...      1  \n",
       "42137  WASHINGTON (Reuters) - The leaders of the Sena...      0  "
      ]
     },
     "execution_count": 12,
     "metadata": {},
     "output_type": "execute_result"
    }
   ],
   "source": [
    "df3.dropna(inplace=True)\n",
    "df3.head()"
   ]
  },
  {
   "cell_type": "code",
   "execution_count": 13,
   "id": "69e66f6e",
   "metadata": {},
   "outputs": [
    {
     "data": {
      "text/plain": [
       "Index(['Unnamed: 0', 'title', 'text', 'label'], dtype='object')"
      ]
     },
     "execution_count": 13,
     "metadata": {},
     "output_type": "execute_result"
    }
   ],
   "source": [
    "df.columns"
   ]
  },
  {
   "cell_type": "code",
   "execution_count": 14,
   "id": "d67e5a1f",
   "metadata": {},
   "outputs": [
    {
     "data": {
      "text/plain": [
       "(72134, 4)"
      ]
     },
     "execution_count": 14,
     "metadata": {},
     "output_type": "execute_result"
    }
   ],
   "source": [
    "np.shape(df)"
   ]
  },
  {
   "cell_type": "code",
   "execution_count": 15,
   "id": "d211787b",
   "metadata": {},
   "outputs": [
    {
     "data": {
      "text/plain": [
       "Index(['Unnamed: 0', 'title', 'text', 'label'], dtype='object')"
      ]
     },
     "execution_count": 15,
     "metadata": {},
     "output_type": "execute_result"
    }
   ],
   "source": [
    "df1.columns"
   ]
  },
  {
   "cell_type": "code",
   "execution_count": 16,
   "id": "f558ad3f",
   "metadata": {},
   "outputs": [
    {
     "data": {
      "text/plain": [
       "(9928, 4)"
      ]
     },
     "execution_count": 16,
     "metadata": {},
     "output_type": "execute_result"
    }
   ],
   "source": [
    "np.shape(df1)"
   ]
  },
  {
   "cell_type": "code",
   "execution_count": 17,
   "id": "6eacaddc",
   "metadata": {},
   "outputs": [
    {
     "data": {
      "text/plain": [
       "[Text(0.5, 0, 'Fake = 1, Real News = 0'),\n",
       " Text(0, 0.5, 'Number of Fake/True'),\n",
       " Text(0.5, 1.0, 'Count of Fake and True News Dataset #1')]"
      ]
     },
     "execution_count": 17,
     "metadata": {},
     "output_type": "execute_result"
    },
    {
     "data": {
      "image/png": "[encoded data removed]",
      "text/plain": [
       "<Figure size 640x480 with 1 Axes>"
      ]
     },
     "metadata": {},
     "output_type": "display_data"
    }
   ],
   "source": [
    "import seaborn as sns\n",
    "df1_plt = sns.countplot(x = df1[\"label\"])\n",
    "df1_plt.set(xlabel='Fake = 1, Real News = 0', ylabel='Number of Fake/True',title='Count of Fake and True News Dataset #1')\n"
   ]
  },
  {
   "cell_type": "code",
   "execution_count": 18,
   "id": "19633665",
   "metadata": {},
   "outputs": [
    {
     "data": {
      "text/plain": [
       "[Text(0.5, 0, 'Fake = 1, Real News = 0'),\n",
       " Text(0, 0.5, 'Number of Fake/True'),\n",
       " Text(0.5, 1.0, 'Count of Fake and True News Dataset #2')]"
      ]
     },
     "execution_count": 18,
     "metadata": {},
     "output_type": "execute_result"
    },
    {
     "data": {
      "image/png": "[encoded data removed]",
      "text/plain": [
       "<Figure size 640x480 with 1 Axes>"
      ]
     },
     "metadata": {},
     "output_type": "display_data"
    }
   ],
   "source": [
    "df2_plt = sns.countplot(x = df2[\"label\"])\n",
    "df2_plt.set(xlabel='Fake = 1, Real News = 0', ylabel='Number of Fake/True',title='Count of Fake and True News Dataset #2')\n"
   ]
  },
  {
   "cell_type": "code",
   "execution_count": 19,
   "id": "a958ed36",
   "metadata": {},
   "outputs": [
    {
     "data": {
      "text/plain": [
       "[Text(0.5, 0, 'Fake = 1, Real News = 0'),\n",
       " Text(0, 0.5, 'Number of Fake/True'),\n",
       " Text(0.5, 1.0, 'Count of Fake and True News Dataset #3')]"
      ]
     },
     "execution_count": 19,
     "metadata": {},
     "output_type": "execute_result"
    },
    {
     "data": {
      "image/png": "[encoded data removed]",
      "text/plain": [
       "<Figure size 640x480 with 1 Axes>"
      ]
     },
     "metadata": {},
     "output_type": "display_data"
    }
   ],
   "source": [
    "df3_plt = sns.countplot(x = df3[\"label\"])\n",
    "df3_plt.set(xlabel='Fake = 1, Real News = 0', ylabel='Number of Fake/True',title='Count of Fake and True News Dataset #3')\n"
   ]
  },
  {
   "cell_type": "code",
   "execution_count": 20,
   "id": "18998ab1",
   "metadata": {},
   "outputs": [],
   "source": [
    "import nltk\n",
    "import pandas as pd\n",
    "from nltk.corpus import stopwords\n",
    "from nltk.tokenize import word_tokenize\n",
    "import re\n",
    "import string\n",
    "\n",
    "#nltk.download('punkt')\n",
    "#nltk.download('stopwords')\n",
    "\n",
    "def preprocess_text(text):\n",
    "     \n",
    "    # remove all tokens that are not alphabetic\n",
    "    tokens = word_tokenize(text)\n",
    "    words = [word for word in tokens if word.isalpha()]\n",
    "    \n",
    "    # convert to lower case\n",
    "    tokens = [w.lower() for w in tokens]\n",
    "    \n",
    "    # remove punctuation from each word\n",
    "    table = str.maketrans('', '', string.punctuation)\n",
    "    stripped = [w.translate(table) for w in tokens]\n",
    "    \n",
    "    # remove remaining tokens that are not alphabetic\n",
    "    stripped_words = [word for word in stripped if word.isalpha()]\n",
    "    \n",
    "    # filter out stop words\n",
    "    from nltk.corpus import stopwords\n",
    "    stop_words = set(stopwords.words('english'))\n",
    "    filtered_tokens = [w for w in stripped_words if not w in stop_words]\n",
    "\n",
    "    stemmer = PorterStemmer()\n",
    "    stemmed_tokens = [stemmer.stem(word) for word in filtered_tokens]\n",
    "    return stemmed_tokens"
   ]
  },
  {
   "cell_type": "code",
   "execution_count": null,
   "id": "86845f22",
   "metadata": {},
   "outputs": [],
   "source": []
  },
  {
   "cell_type": "code",
   "execution_count": 21,
   "id": "8306672f",
   "metadata": {},
   "outputs": [
    {
     "name": "stdout",
     "output_type": "stream",
     "text": [
      "   label                                preprocessed_tokens\n",
      "0      1  [comment, expect, barack, obama, member, fukyo...\n",
      "2      1  [demonstr, gather, last, night, exercis, const...\n",
      "3      0  [dozen, polit, activ, pastor, came, privat, di...\n",
      "4      1  [sarmat, missil, dub, satan, replac, fli, mile...\n",
      "5      1  [say, one, time, someon, su, southern, poverti...\n"
     ]
    }
   ],
   "source": [
    "df1['preprocessed_tokens'] = df1['text'].apply(preprocess_text)\n",
    "\n",
    "print(df1[['label', 'preprocessed_tokens']].head())"
   ]
  },
  {
   "cell_type": "code",
   "execution_count": 22,
   "id": "02f676e8",
   "metadata": {},
   "outputs": [
    {
     "name": "stdout",
     "output_type": "stream",
     "text": [
      "       label                                preprocessed_tokens\n",
      "64133      1  [alfredo, romero, alfredoromero, octob, romero...\n",
      "64134      1  [monster, mr, presidentelect, democrat, grovel...\n",
      "64135      1  [boy, wear, dad, atm, tshirt, chase, mob, fath...\n",
      "64136      0  [first, airbnb, guest, check, garag, apart, la...\n",
      "64137      0  [moscow, war, eastern, ukrain, simmer, quietli...\n"
     ]
    }
   ],
   "source": [
    "df2['preprocessed_tokens'] = df2['text'].apply(preprocess_text)\n",
    "\n",
    "print(df2[['label', 'preprocessed_tokens']].head())"
   ]
  },
  {
   "cell_type": "code",
   "execution_count": 23,
   "id": "bacd07a6",
   "metadata": {},
   "outputs": [
    {
     "name": "stdout",
     "output_type": "stream",
     "text": [
      "       label                                preprocessed_tokens\n",
      "42133      0  [miami, return, honeymoon, dominican, republ, ...\n",
      "42134      0  [ralli, alleg, fake, news, petit, garner, thou...\n",
      "42135      1  [support, us, aper, releas, arriv, mail, publi...\n",
      "42136      1  [pin, zhe, recent, torrent, daili, podesta, em...\n",
      "42137      0  [washington, reuter, leader, senat, intellig, ...\n"
     ]
    }
   ],
   "source": [
    "df3['preprocessed_tokens'] = df3['text'].apply(preprocess_text)\n",
    "\n",
    "print(df3[['label', 'preprocessed_tokens']].head())"
   ]
  },
  {
   "cell_type": "code",
   "execution_count": 24,
   "id": "59b17398",
   "metadata": {},
   "outputs": [],
   "source": [
    "from gensim.models import Word2Vec\n",
    "from sklearn.model_selection import train_test_split\n",
    "import seaborn as sns\n",
    "\n",
    "sentences = df1['preprocessed_tokens'].tolist()\n",
    "labels = df1['label'].tolist()"
   ]
  },
  {
   "cell_type": "code",
   "execution_count": 25,
   "id": "70ede5ff",
   "metadata": {},
   "outputs": [],
   "source": [
    "sentences_2 = df2['preprocessed_tokens'].tolist()\n",
    "labels_2 = df2['label'].tolist()"
   ]
  },
  {
   "cell_type": "code",
   "execution_count": 26,
   "id": "9a523f2f",
   "metadata": {},
   "outputs": [],
   "source": [
    "sentences_3 = df3['preprocessed_tokens'].tolist()\n",
    "labels_3 = df3['label'].tolist()"
   ]
  },
  {
   "cell_type": "code",
   "execution_count": 27,
   "id": "a70c80fa",
   "metadata": {},
   "outputs": [
    {
     "name": "stdout",
     "output_type": "stream",
     "text": [
      "(9928,)\n"
     ]
    },
    {
     "name": "stderr",
     "output_type": "stream",
     "text": [
      "/usr/local/lib/python3.10/dist-packages/numpy/core/fromnumeric.py:2009: VisibleDeprecationWarning: Creating an ndarray from ragged nested sequences (which is a list-or-tuple of lists-or-tuples-or ndarrays with different lengths or shapes) is deprecated. If you meant to do this, you must specify 'dtype=object' when creating the ndarray.\n",
      "  result = asarray(a).shape\n"
     ]
    }
   ],
   "source": [
    "print(np.shape(sentences))"
   ]
  },
  {
   "cell_type": "code",
   "execution_count": 28,
   "id": "af73adfc",
   "metadata": {},
   "outputs": [
    {
     "data": {
      "text/html": [
       "<div>\n",
       "<style scoped>\n",
       "    .dataframe tbody tr th:only-of-type {\n",
       "        vertical-align: middle;\n",
       "    }\n",
       "\n",
       "    .dataframe tbody tr th {\n",
       "        vertical-align: top;\n",
       "    }\n",
       "\n",
       "    .dataframe thead th {\n",
       "        text-align: right;\n",
       "    }\n",
       "</style>\n",
       "<table border=\"1\" class=\"dataframe\">\n",
       "  <thead>\n",
       "    <tr style=\"text-align: right;\">\n",
       "      <th></th>\n",
       "      <th>Unnamed: 0</th>\n",
       "      <th>title</th>\n",
       "      <th>text</th>\n",
       "      <th>label</th>\n",
       "      <th>preprocessed_tokens</th>\n",
       "    </tr>\n",
       "  </thead>\n",
       "  <tbody>\n",
       "    <tr>\n",
       "      <th>0</th>\n",
       "      <td>0</td>\n",
       "      <td>LAW ENFORCEMENT ON HIGH ALERT Following Threat...</td>\n",
       "      <td>No comment is expected from Barack Obama Membe...</td>\n",
       "      <td>1</td>\n",
       "      <td>[comment, expect, barack, obama, member, fukyo...</td>\n",
       "    </tr>\n",
       "    <tr>\n",
       "      <th>2</th>\n",
       "      <td>2</td>\n",
       "      <td>UNBELIEVABLE! OBAMA’S ATTORNEY GENERAL SAYS MO...</td>\n",
       "      <td>Now, most of the demonstrators gathered last ...</td>\n",
       "      <td>1</td>\n",
       "      <td>[demonstr, gather, last, night, exercis, const...</td>\n",
       "    </tr>\n",
       "    <tr>\n",
       "      <th>3</th>\n",
       "      <td>3</td>\n",
       "      <td>Bobby Jindal, raised Hindu, uses story of Chri...</td>\n",
       "      <td>A dozen politically active pastors came here f...</td>\n",
       "      <td>0</td>\n",
       "      <td>[dozen, polit, activ, pastor, came, privat, di...</td>\n",
       "    </tr>\n",
       "    <tr>\n",
       "      <th>4</th>\n",
       "      <td>4</td>\n",
       "      <td>SATAN 2: Russia unvelis an image of its terrif...</td>\n",
       "      <td>The RS-28 Sarmat missile, dubbed Satan 2, will...</td>\n",
       "      <td>1</td>\n",
       "      <td>[sarmat, missil, dub, satan, replac, fli, mile...</td>\n",
       "    </tr>\n",
       "    <tr>\n",
       "      <th>5</th>\n",
       "      <td>5</td>\n",
       "      <td>About Time! Christian Group Sues Amazon and SP...</td>\n",
       "      <td>All we can say on this one is it s about time ...</td>\n",
       "      <td>1</td>\n",
       "      <td>[say, one, time, someon, su, southern, poverti...</td>\n",
       "    </tr>\n",
       "  </tbody>\n",
       "</table>\n",
       "</div>"
      ],
      "text/plain": [
       "   Unnamed: 0                                              title  \\\n",
       "0           0  LAW ENFORCEMENT ON HIGH ALERT Following Threat...   \n",
       "2           2  UNBELIEVABLE! OBAMA’S ATTORNEY GENERAL SAYS MO...   \n",
       "3           3  Bobby Jindal, raised Hindu, uses story of Chri...   \n",
       "4           4  SATAN 2: Russia unvelis an image of its terrif...   \n",
       "5           5  About Time! Christian Group Sues Amazon and SP...   \n",
       "\n",
       "                                                text  label  \\\n",
       "0  No comment is expected from Barack Obama Membe...      1   \n",
       "2   Now, most of the demonstrators gathered last ...      1   \n",
       "3  A dozen politically active pastors came here f...      0   \n",
       "4  The RS-28 Sarmat missile, dubbed Satan 2, will...      1   \n",
       "5  All we can say on this one is it s about time ...      1   \n",
       "\n",
       "                                 preprocessed_tokens  \n",
       "0  [comment, expect, barack, obama, member, fukyo...  \n",
       "2  [demonstr, gather, last, night, exercis, const...  \n",
       "3  [dozen, polit, activ, pastor, came, privat, di...  \n",
       "4  [sarmat, missil, dub, satan, replac, fli, mile...  \n",
       "5  [say, one, time, someon, su, southern, poverti...  "
      ]
     },
     "execution_count": 28,
     "metadata": {},
     "output_type": "execute_result"
    }
   ],
   "source": [
    "df1.head()"
   ]
  },
  {
   "cell_type": "code",
   "execution_count": 29,
   "id": "44f17a84",
   "metadata": {},
   "outputs": [],
   "source": [
    "y = labels\n",
    "y_2 = labels_2\n",
    "y_3 = labels_3"
   ]
  },
  {
   "cell_type": "code",
   "execution_count": 30,
   "id": "815cc699",
   "metadata": {},
   "outputs": [],
   "source": [
    "X = sentences\n",
    "X_2 =sentences_2\n",
    "X_3 = sentences_3"
   ]
  },
  {
   "cell_type": "code",
   "execution_count": 31,
   "id": "016f1d9d",
   "metadata": {},
   "outputs": [],
   "source": [
    "vec_size = 100\n",
    "w2v_model = Word2Vec(sentences = X, vector_size=vec_size, window=5, min_count=1, workers=4)\n"
   ]
  },
  {
   "cell_type": "code",
   "execution_count": 32,
   "id": "2514869e",
   "metadata": {},
   "outputs": [
    {
     "data": {
      "text/plain": [
       "88930"
      ]
     },
     "execution_count": 32,
     "metadata": {},
     "output_type": "execute_result"
    }
   ],
   "source": [
    "len(w2v_model.wv)"
   ]
  },
  {
   "cell_type": "code",
   "execution_count": 33,
   "id": "d23e74c5",
   "metadata": {},
   "outputs": [
    {
     "data": {
      "image/png": "[encoded data removed]",
      "text/plain": [
       "<Figure size 640x480 with 1 Axes>"
      ]
     },
     "metadata": {},
     "output_type": "display_data"
    }
   ],
   "source": [
    "import matplotlib.pyplot as plt\n",
    "plt.hist([len(x) for x in X], bins = 1000)\n",
    "plt.show()"
   ]
  },
  {
   "cell_type": "code",
   "execution_count": 34,
   "id": "7af152db",
   "metadata": {},
   "outputs": [],
   "source": [
    "tokenizer = Tokenizer()\n",
    "tokenizer.fit_on_texts(X)\n",
    "X = tokenizer.texts_to_sequences(X)"
   ]
  },
  {
   "cell_type": "code",
   "execution_count": 35,
   "id": "14036c99",
   "metadata": {},
   "outputs": [],
   "source": [
    "tokenizer_2 = Tokenizer()\n",
    "tokenizer_2.fit_on_texts(X_2)\n",
    "X_2 = tokenizer_2.texts_to_sequences(X_2)"
   ]
  },
  {
   "cell_type": "code",
   "execution_count": 36,
   "id": "d9ff3ed2",
   "metadata": {},
   "outputs": [],
   "source": [
    "tokenizer_3 = Tokenizer()\n",
    "tokenizer_3.fit_on_texts(X_3)\n",
    "X_3 = tokenizer_2.texts_to_sequences(X_3)"
   ]
  },
  {
   "cell_type": "code",
   "execution_count": 37,
   "id": "73ab4aee",
   "metadata": {},
   "outputs": [],
   "source": [
    "import seaborn as sns\n",
    "maxlen = 1200\n",
    "X = pad_sequences(X, maxlen = maxlen)\n",
    "X_2 = pad_sequences(X_2, maxlen = maxlen)\n",
    "X_3 = pad_sequences(X_3, maxlen = maxlen)"
   ]
  },
  {
   "cell_type": "code",
   "execution_count": 38,
   "id": "1d60b413",
   "metadata": {},
   "outputs": [
    {
     "data": {
      "text/plain": [
       "0"
      ]
     },
     "execution_count": 38,
     "metadata": {},
     "output_type": "execute_result"
    }
   ],
   "source": [
    "nos = np.array([len(x) for x in X])\n",
    "len(nos[nos>maxlen])"
   ]
  },
  {
   "cell_type": "code",
   "execution_count": 39,
   "id": "c8652d7f",
   "metadata": {},
   "outputs": [],
   "source": [
    "from tensorflow.keras.layers import Input, LSTM, Embedding, RepeatVector\n",
    "\n",
    "word_embeddings = {word: w2v_model.wv[word] for word in tokenizer.word_index.keys() if word in w2v_model.wv}\n",
    "embedding_matrix = np.zeros((len(tokenizer.word_index) + 1, 100))\n",
    "for word, embedding in word_embeddings.items():\n",
    "    embedding_matrix[tokenizer.word_index[word]] = embedding\n"
   ]
  },
  {
   "cell_type": "code",
   "execution_count": 40,
   "id": "2f64ee49",
   "metadata": {},
   "outputs": [
    {
     "data": {
      "text/plain": [
       "(88931, 100)"
      ]
     },
     "execution_count": 40,
     "metadata": {},
     "output_type": "execute_result"
    }
   ],
   "source": [
    "embedding_matrix.shape"
   ]
  },
  {
   "cell_type": "code",
   "execution_count": 41,
   "id": "59947e2d",
   "metadata": {},
   "outputs": [],
   "source": [
    "from tensorflow.keras.models import Sequential\n",
    "from tensorflow.keras.layers import Dense, Dropout, Embedding, GRU, LSTM, RNN, SpatialDropout1D\n",
    "\n",
    "vocab_size = len(tokenizer.word_index) + 1\n",
    "vocab = tokenizer.word_index\n",
    "\n",
    "EMB = Embedding(vocab_size,output_dim = vec_size,weights=[embedding_matrix],input_length = maxlen, trainable = False)\n"
   ]
  },
  {
   "cell_type": "code",
   "execution_count": 42,
   "id": "9a55967f",
   "metadata": {},
   "outputs": [],
   "source": [
    "model = Sequential()\n",
    "model.add(EMB)\n",
    "model.add(LSTM(units=128))# Adjust input_shape based on your data\n",
    "model.add(Dense(1, activation='sigmoid'))\n",
    "model.compile(optimizer='adam', loss='binary_crossentropy', metrics=['accuracy'])"
   ]
  },
  {
   "cell_type": "code",
   "execution_count": 43,
   "id": "cfa6eae8",
   "metadata": {},
   "outputs": [],
   "source": [
    "X_train, X_test, y_train, y_test = train_test_split(X, np.array(y))"
   ]
  },
  {
   "cell_type": "code",
   "execution_count": 44,
   "id": "6a6749a5",
   "metadata": {},
   "outputs": [
    {
     "name": "stdout",
     "output_type": "stream",
     "text": [
      "Epoch 1/5\n",
      "163/163 [==============================] - 114s 698ms/step - loss: 0.3785 - accuracy: 0.8310 - val_loss: 0.2935 - val_accuracy: 0.8948\n",
      "Epoch 2/5\n",
      "163/163 [==============================] - 100s 614ms/step - loss: 0.3721 - accuracy: 0.8206 - val_loss: 0.3111 - val_accuracy: 0.8706\n",
      "Epoch 3/5\n",
      "163/163 [==============================] - 94s 580ms/step - loss: 0.3072 - accuracy: 0.8682 - val_loss: 0.2405 - val_accuracy: 0.9029\n",
      "Epoch 4/5\n",
      "163/163 [==============================] - 96s 588ms/step - loss: 0.2564 - accuracy: 0.8927 - val_loss: 0.2095 - val_accuracy: 0.9105\n",
      "Epoch 5/5\n",
      "163/163 [==============================] - 94s 579ms/step - loss: 0.1782 - accuracy: 0.9313 - val_loss: 0.1652 - val_accuracy: 0.9333\n"
     ]
    }
   ],
   "source": [
    "history_LSTM = model.fit(X_train, y_train, epochs=5, validation_split = 0.3).history #This is LSTM model"
   ]
  },
  {
   "cell_type": "code",
   "execution_count": 45,
   "id": "84a1c73d",
   "metadata": {},
   "outputs": [
    {
     "name": "stdout",
     "output_type": "stream",
     "text": [
      "78/78 [==============================] - 16s 204ms/step\n"
     ]
    }
   ],
   "source": [
    "y_pred_LSTM = (model.predict(X_test) >= 0.5).astype(int)\n"
   ]
  },
  {
   "cell_type": "code",
   "execution_count": 46,
   "id": "e7e22462",
   "metadata": {},
   "outputs": [
    {
     "name": "stdout",
     "output_type": "stream",
     "text": [
      "dict_keys(['loss', 'accuracy', 'val_loss', 'val_accuracy'])\n"
     ]
    },
    {
     "data": {
      "image/png": "[encoded data removed]",
      "text/plain": [
       "<Figure size 640x480 with 1 Axes>"
      ]
     },
     "metadata": {},
     "output_type": "display_data"
    }
   ],
   "source": [
    "print(history_LSTM.keys())\n",
    "#  \"Accuracy\"\n",
    "plt.plot(history_LSTM['accuracy'])\n",
    "plt.plot(history_LSTM['val_accuracy'])\n",
    "plt.title('LSTM model accuracy')\n",
    "plt.ylabel('accuracy')\n",
    "plt.xlabel('epoch')\n",
    "plt.legend(['train', 'validation'], loc='upper left')\n",
    "plt.show()\n",
    "\n"
   ]
  },
  {
   "cell_type": "code",
   "execution_count": 47,
   "id": "eea8a3b7",
   "metadata": {},
   "outputs": [
    {
     "data": {
      "text/plain": [
       "<matplotlib.legend.Legend at 0x7ff8e05c9c90>"
      ]
     },
     "execution_count": 47,
     "metadata": {},
     "output_type": "execute_result"
    },
    {
     "data": {
      "image/png": "[encoded data removed]",
      "text/plain": [
       "<Figure size 1000x200 with 1 Axes>"
      ]
     },
     "metadata": {},
     "output_type": "display_data"
    }
   ],
   "source": [
    "history_LSTM\n",
    "plt.figure(figsize=(10, 2))\n",
    "\n",
    "plt.plot(history_LSTM[\"val_loss\"], label=\"Validation Loss\")\n",
    "plt.plot(history_LSTM[\"loss\"], label=\"Training Loss\")\n",
    "plt.legend()\n"
   ]
  },
  {
   "cell_type": "code",
   "execution_count": 48,
   "id": "95bf3dc8",
   "metadata": {},
   "outputs": [
    {
     "name": "stdout",
     "output_type": "stream",
     "text": [
      "              precision    recall  f1-score   support\n",
      "\n",
      "           0       0.94      0.91      0.92      1174\n",
      "           1       0.92      0.94      0.93      1308\n",
      "\n",
      "    accuracy                           0.93      2482\n",
      "   macro avg       0.93      0.93      0.93      2482\n",
      "weighted avg       0.93      0.93      0.93      2482\n",
      "\n"
     ]
    }
   ],
   "source": [
    "from sklearn.metrics import confusion_matrix, classification_report, f1_score\n",
    "\n",
    "## print classification report\n",
    "print(classification_report(y_test,y_pred_LSTM))"
   ]
  },
  {
   "cell_type": "code",
   "execution_count": 49,
   "id": "6d36a04e",
   "metadata": {},
   "outputs": [
    {
     "name": "stdout",
     "output_type": "stream",
     "text": [
      "Original Approach Accuracy: 0.9271\n"
     ]
    }
   ],
   "source": [
    "from sklearn.metrics import accuracy_score, precision_score, recall_score\n",
    "\n",
    "Org_accuracy = accuracy_score(y_pred_LSTM, y_test)\n",
    "print(f\"Original Approach Accuracy: {Org_accuracy:.4f}\")\n"
   ]
  },
  {
   "cell_type": "code",
   "execution_count": 50,
   "id": "1ba7bf93",
   "metadata": {},
   "outputs": [
    {
     "data": {
      "text/plain": [
       "Text(45.722222222222214, 0.5, 'Real Labels')"
      ]
     },
     "execution_count": 50,
     "metadata": {},
     "output_type": "execute_result"
    },
    {
     "data": {
      "image/png": "[encoded data removed]",
      "text/plain": [
       "<Figure size 600x300 with 2 Axes>"
      ]
     },
     "metadata": {},
     "output_type": "display_data"
    }
   ],
   "source": [
    "#plot the confusion matrix\n",
    "import seaborn as sns\n",
    "from sklearn.metrics import confusion_matrix, classification_report, f1_score\n",
    "\n",
    "plt.figure(figsize = (6,3))\n",
    "\n",
    "sns.heatmap(confusion_matrix(y_test,y_pred_LSTM), annot=True, \n",
    "            fmt='', cmap='Blues')\n",
    "\n",
    "plt.xlabel('Predicted Labels')\n",
    "plt.ylabel('Real Labels')"
   ]
  },
  {
   "cell_type": "code",
   "execution_count": 51,
   "id": "6dea8557",
   "metadata": {},
   "outputs": [
    {
     "name": "stdout",
     "output_type": "stream",
     "text": [
      "248/248 [==============================] - 53s 212ms/step\n"
     ]
    }
   ],
   "source": [
    "y_pred_LSTM_2 = (model.predict(X_2) >= 0.5).astype(int)"
   ]
  },
  {
   "cell_type": "code",
   "execution_count": 52,
   "id": "64831124",
   "metadata": {},
   "outputs": [
    {
     "name": "stdout",
     "output_type": "stream",
     "text": [
      "Original Approach Accuracy 2: 0.8266\n"
     ]
    }
   ],
   "source": [
    "Org_accuracy_2 = accuracy_score(y_pred_LSTM_2, y_2)\n",
    "print(f\"Original Approach Accuracy 2: {Org_accuracy_2:.4f}\")"
   ]
  },
  {
   "cell_type": "code",
   "execution_count": 53,
   "id": "c89345f7",
   "metadata": {},
   "outputs": [
    {
     "data": {
      "text/plain": [
       "Text(45.722222222222214, 0.5, 'Real Labels')"
      ]
     },
     "execution_count": 53,
     "metadata": {},
     "output_type": "execute_result"
    },
    {
     "data": {
      "image/png": "[encoded data removed]",
      "text/plain": [
       "<Figure size 600x300 with 2 Axes>"
      ]
     },
     "metadata": {},
     "output_type": "display_data"
    }
   ],
   "source": [
    "plt.figure(figsize = (6,3))\n",
    "\n",
    "sns.heatmap(confusion_matrix(y_2,y_pred_LSTM_2), annot=True, \n",
    "            fmt='', cmap='Blues')\n",
    "\n",
    "plt.xlabel('Predicted Labels')\n",
    "plt.ylabel('Real Labels')"
   ]
  },
  {
   "cell_type": "code",
   "execution_count": 54,
   "id": "4e4cab42",
   "metadata": {},
   "outputs": [
    {
     "name": "stdout",
     "output_type": "stream",
     "text": [
      "              precision    recall  f1-score   support\n",
      "\n",
      "           0       0.82      0.83      0.82      3881\n",
      "           1       0.83      0.82      0.83      4053\n",
      "\n",
      "    accuracy                           0.83      7934\n",
      "   macro avg       0.83      0.83      0.83      7934\n",
      "weighted avg       0.83      0.83      0.83      7934\n",
      "\n"
     ]
    }
   ],
   "source": [
    "## print classification report\n",
    "print(classification_report(y_2,y_pred_LSTM_2))"
   ]
  },
  {
   "cell_type": "code",
   "execution_count": 55,
   "id": "a1f9e21c",
   "metadata": {},
   "outputs": [
    {
     "name": "stdout",
     "output_type": "stream",
     "text": [
      "248/248 [==============================] - 42s 171ms/step\n"
     ]
    }
   ],
   "source": [
    "y_pred_LSTM_3 = (model.predict(X_3) >= 0.5).astype(int)"
   ]
  },
  {
   "cell_type": "code",
   "execution_count": 56,
   "id": "394326bd",
   "metadata": {},
   "outputs": [
    {
     "name": "stdout",
     "output_type": "stream",
     "text": [
      "Original Approach Accuracy 3: 0.8085\n"
     ]
    }
   ],
   "source": [
    "Org_accuracy_3 = accuracy_score(y_pred_LSTM_3, y_3)\n",
    "print(f\"Original Approach Accuracy 3: {Org_accuracy_3:.4f}\")"
   ]
  },
  {
   "cell_type": "code",
   "execution_count": 57,
   "id": "a4c229b6",
   "metadata": {},
   "outputs": [
    {
     "data": {
      "text/plain": [
       "Text(45.722222222222214, 0.5, 'Real Labels')"
      ]
     },
     "execution_count": 57,
     "metadata": {},
     "output_type": "execute_result"
    },
    {
     "data": {
      "image/png": "[encoded data removed]",
      "text/plain": [
       "<Figure size 600x300 with 2 Axes>"
      ]
     },
     "metadata": {},
     "output_type": "display_data"
    }
   ],
   "source": [
    "plt.figure(figsize = (6,3))\n",
    "\n",
    "sns.heatmap(confusion_matrix(y_3,y_pred_LSTM_3), annot=True, \n",
    "            fmt='', cmap='Blues')\n",
    "\n",
    "plt.xlabel('Predicted Labels')\n",
    "plt.ylabel('Real Labels')"
   ]
  },
  {
   "cell_type": "code",
   "execution_count": 58,
   "id": "3cb1af1a",
   "metadata": {},
   "outputs": [],
   "source": [
    "X_train_N = np.float32(X_train)\n",
    "X_test_N = np.float32(X_test)"
   ]
  },
  {
   "cell_type": "code",
   "execution_count": 59,
   "id": "a928a036",
   "metadata": {},
   "outputs": [],
   "source": [
    "X_train_N_mean = X_train_N.mean()\n",
    "X_train_N = X_train_N - X_train_N_mean\n",
    "X_train_N_std = X_train_N.std()\n",
    "X_train_N /= X_train_N_std\n",
    "\n",
    "\n",
    "X_test_N_mean = X_test_N.mean()\n",
    "X_test_N = X_test_N - X_test_N_mean\n",
    "X_test_N_std = X_test_N.std()\n",
    "X_test_N /= X_test_N_std\n",
    "\n"
   ]
  },
  {
   "cell_type": "code",
   "execution_count": 60,
   "id": "6f29531c",
   "metadata": {},
   "outputs": [],
   "source": [
    "autoencoder = tf.keras.Sequential([\n",
    "    tf.keras.layers.Input(shape=(maxlen,)),\n",
    "    tf.keras.layers.Dense(128, activation='relu'),\n",
    "    tf.keras.layers.Dense(64, activation='relu'),\n",
    "    tf.keras.layers.Dense(128, activation='relu'),\n",
    "    tf.keras.layers.Dense(maxlen, activation='sigmoid')\n",
    "])"
   ]
  },
  {
   "cell_type": "code",
   "execution_count": 61,
   "id": "4d7a2ba1",
   "metadata": {},
   "outputs": [],
   "source": [
    "# normalize training and testing set using mean and std deviation of training set\n",
    "\n",
    "X_2_N = np.float32(X_2)\n",
    "X_3_N = np.float32(X_3)"
   ]
  },
  {
   "cell_type": "code",
   "execution_count": 62,
   "id": "cedf4707",
   "metadata": {},
   "outputs": [],
   "source": [
    "X_2_N_mean = X_2_N.mean()\n",
    "X_3_N_mean = X_3_N.mean()\n"
   ]
  },
  {
   "cell_type": "code",
   "execution_count": 63,
   "id": "d0ac9367",
   "metadata": {},
   "outputs": [
    {
     "name": "stdout",
     "output_type": "stream",
     "text": [
      "4186.51\n"
     ]
    }
   ],
   "source": [
    "X_2_N = X_2_N - np.float32(X_2_N_mean)\n",
    "X_2_N_std = X_2_N.std()\n",
    "X_2_N /= X_2_N_std\n",
    "print(X_2_N_std)"
   ]
  },
  {
   "cell_type": "code",
   "execution_count": 64,
   "id": "b4fe86b6",
   "metadata": {},
   "outputs": [
    {
     "name": "stdout",
     "output_type": "stream",
     "text": [
      "3066.9062\n"
     ]
    }
   ],
   "source": [
    "X_3_N = X_3_N - np.float32(X_3_N_mean)\n",
    "X_3_N_std = X_3_N.std()\n",
    "X_3_N /= X_3_N_std\n",
    "print(X_3_N_std)"
   ]
  },
  {
   "cell_type": "code",
   "execution_count": 65,
   "id": "646e52b9",
   "metadata": {},
   "outputs": [
    {
     "name": "stdout",
     "output_type": "stream",
     "text": [
      "Epoch 1/7\n",
      "233/233 [==============================] - 1s 5ms/step - loss: 0.9478 - accuracy: 0.0553 - val_loss: 0.9098 - val_accuracy: 0.1297\n",
      "Epoch 2/7\n",
      "233/233 [==============================] - 1s 3ms/step - loss: 0.9008 - accuracy: 0.2165 - val_loss: 0.8943 - val_accuracy: 0.2583\n",
      "Epoch 3/7\n",
      "233/233 [==============================] - 1s 3ms/step - loss: 0.8875 - accuracy: 0.3133 - val_loss: 0.8881 - val_accuracy: 0.3082\n",
      "Epoch 4/7\n",
      "233/233 [==============================] - 1s 3ms/step - loss: 0.8799 - accuracy: 0.3425 - val_loss: 0.8846 - val_accuracy: 0.3485\n",
      "Epoch 5/7\n",
      "233/233 [==============================] - 1s 3ms/step - loss: 0.8746 - accuracy: 0.3629 - val_loss: 0.8833 - val_accuracy: 0.3578\n",
      "Epoch 6/7\n",
      "233/233 [==============================] - 1s 3ms/step - loss: 0.8706 - accuracy: 0.3805 - val_loss: 0.8827 - val_accuracy: 0.3771\n",
      "Epoch 7/7\n",
      "233/233 [==============================] - 1s 3ms/step - loss: 0.8673 - accuracy: 0.3899 - val_loss: 0.8800 - val_accuracy: 0.3771\n"
     ]
    }
   ],
   "source": [
    "autoencoder.compile(optimizer='adam', loss='mean_squared_error',metrics=['accuracy'])\n",
    "history_auto = autoencoder.fit(X_train_N, X_train_N, epochs=7,validation_data=(X_test_N, X_test_N), shuffle=True).history"
   ]
  },
  {
   "cell_type": "code",
   "execution_count": 66,
   "id": "b16a666e",
   "metadata": {},
   "outputs": [
    {
     "data": {
      "text/plain": [
       "<matplotlib.legend.Legend at 0x7ff8e0452080>"
      ]
     },
     "execution_count": 66,
     "metadata": {},
     "output_type": "execute_result"
    },
    {
     "data": {
      "image/png": "[encoded data removed]",
      "text/plain": [
       "<Figure size 1000x200 with 1 Axes>"
      ]
     },
     "metadata": {},
     "output_type": "display_data"
    }
   ],
   "source": [
    "plt.figure(figsize=(10, 2))\n",
    "plt.plot(history_auto[\"val_accuracy\"], label=\"Validation accuracy\")\n",
    "plt.plot(history_auto[\"accuracy\"], label=\"Training accuracy\")\n",
    "plt.legend()"
   ]
  },
  {
   "cell_type": "code",
   "execution_count": 67,
   "id": "e90e90f9",
   "metadata": {},
   "outputs": [
    {
     "name": "stdout",
     "output_type": "stream",
     "text": [
      "dict_keys(['loss', 'accuracy', 'val_loss', 'val_accuracy'])\n"
     ]
    },
    {
     "data": {
      "image/png": "[encoded data removed]",
      "text/plain": [
       "<Figure size 640x480 with 1 Axes>"
      ]
     },
     "metadata": {},
     "output_type": "display_data"
    }
   ],
   "source": [
    "print(history_auto.keys())\n",
    "#  \"Accuracy\"\n",
    "plt.plot(history_auto['accuracy'])\n",
    "plt.plot(history_auto['val_accuracy'])\n",
    "plt.title('Auto Encoder model accuracy')\n",
    "plt.ylabel('accuracy')\n",
    "plt.xlabel('epoch')\n",
    "plt.legend(['train', 'validation'], loc='upper left')\n",
    "plt.show()\n"
   ]
  },
  {
   "cell_type": "code",
   "execution_count": null,
   "id": "6b5c22a3",
   "metadata": {},
   "outputs": [],
   "source": []
  },
  {
   "cell_type": "code",
   "execution_count": 68,
   "id": "550159a6",
   "metadata": {},
   "outputs": [
    {
     "name": "stdout",
     "output_type": "stream",
     "text": [
      "78/78 [==============================] - 0s 1ms/step\n"
     ]
    }
   ],
   "source": [
    "reconstructed_news_1 = autoencoder.predict(X_test_N)\n",
    "reconstruction_errors_1 = np.mean((X_test_N - reconstructed_news_1) ** 2, axis=1)\n",
    "threshold_1 = np.percentile(reconstruction_errors_1, 99)\n",
    "anomaly_indices_1 = np.where(reconstruction_errors_1 > threshold_1)[0]"
   ]
  },
  {
   "cell_type": "code",
   "execution_count": 69,
   "id": "e02e1573",
   "metadata": {},
   "outputs": [
    {
     "name": "stdout",
     "output_type": "stream",
     "text": [
      "248/248 [==============================] - 0s 1ms/step\n"
     ]
    }
   ],
   "source": [
    "reconstructed_news_2 = autoencoder.predict(X_2_N)\n",
    "reconstruction_errors_2 = np.mean((X_2_N - reconstructed_news_2) ** 2, axis=1)\n",
    "threshold_2 = np.percentile(reconstruction_errors_2, 99)\n",
    "anomaly_indices_2 = np.where(reconstruction_errors_2 > threshold_2)[0]"
   ]
  },
  {
   "cell_type": "code",
   "execution_count": 70,
   "id": "9a805d7e",
   "metadata": {},
   "outputs": [
    {
     "name": "stdout",
     "output_type": "stream",
     "text": [
      "248/248 [==============================] - 0s 1ms/step\n"
     ]
    }
   ],
   "source": [
    "reconstructed_news_3 = autoencoder.predict(X_3_N)\n",
    "reconstruction_errors_3 = np.mean((X_3_N - reconstructed_news_3) ** 2, axis=1)\n",
    "threshold_3 = np.percentile(reconstruction_errors_3,99)\n",
    "anomaly_indices_3 = np.where(reconstruction_errors_3 > threshold_3)[0]\n"
   ]
  },
  {
   "cell_type": "code",
   "execution_count": 71,
   "id": "4cfc97ec",
   "metadata": {},
   "outputs": [
    {
     "name": "stdout",
     "output_type": "stream",
     "text": [
      "AutoEncoder Accuracy Dataset #1 = 0.4814665592264303\n",
      "AutoEncoder Accuracy Dataset #2 = 0.49798336274262667\n",
      "AutoEncoder Accuracy Dataset #3 = 0.4948271511481201\n"
     ]
    }
   ],
   "source": [
    "from sklearn.metrics import accuracy_score, precision_score, recall_score\n",
    "\n",
    "\n",
    "def predict(model_test, data, threshold):\n",
    "    reconstructions = model_test(data)\n",
    "    loss = tf.keras.losses.mse(reconstructions, data)\n",
    "    return tf.math.greater(loss, threshold)\n",
    "\n",
    "\n",
    "preds_auto_1 = predict(autoencoder, X_test_N, threshold_1)\n",
    "print(\"AutoEncoder Accuracy Dataset #1 = {}\".format(accuracy_score(preds_auto_1,y_test)))\n",
    "\n",
    "preds_auto_2 = predict(autoencoder, X_2_N, threshold_2)\n",
    "print(\"AutoEncoder Accuracy Dataset #2 = {}\".format(accuracy_score(preds_auto_2,y_2)))\n",
    "\n",
    "preds_auto_3 = predict(autoencoder, X_3_N, threshold_3)\n",
    "print(\"AutoEncoder Accuracy Dataset #3 = {}\".format(accuracy_score(preds_auto_3,y_3)))\n"
   ]
  },
  {
   "cell_type": "code",
   "execution_count": 73,
   "id": "7c21a308",
   "metadata": {},
   "outputs": [
    {
     "name": "stdout",
     "output_type": "stream",
     "text": [
      "Combined Approach Accuracy: 0.9271\n"
     ]
    }
   ],
   "source": [
    "from sklearn.metrics import accuracy_score\n",
    "\n",
    "anomaly_predictions_1 = np.zeros_like(y_pred_LSTM) # return zro sanme shape as y_pred_LSTM\n",
    "aTemp = anomaly_indices_1\n",
    "anomaly_predictions_1[aTemp] = 1 \n",
    "combined_predictions_1 = y_pred_LSTM | anomaly_predictions_1\n",
    "\n",
    "\n",
    "combined_accuracy = accuracy_score(combined_predictions_1, y_test)\n",
    "print(f\"Combined Approach Accuracy: {combined_accuracy:.4f}\")"
   ]
  },
  {
   "cell_type": "code",
   "execution_count": 74,
   "id": "1f8fece4",
   "metadata": {},
   "outputs": [
    {
     "name": "stdout",
     "output_type": "stream",
     "text": [
      "Combined Approach Accuracy: 0.8271\n"
     ]
    }
   ],
   "source": [
    "anomaly_predictions_2 = np.zeros_like(y_pred_LSTM_2) \n",
    "aTemp_2 = anomaly_indices_2\n",
    "anomaly_predictions_2[aTemp_2] = 1\n",
    "combined_predictions_2 = y_pred_LSTM_2 | anomaly_predictions_2\n",
    "\n",
    "\n",
    "# Calculate combined accuracy\n",
    "combined_accuracy_2 = accuracy_score(combined_predictions_2, y_2)\n",
    "print(f\"Combined Approach Accuracy: {combined_accuracy_2:.4f}\")"
   ]
  },
  {
   "cell_type": "code",
   "execution_count": 75,
   "id": "a0248939",
   "metadata": {},
   "outputs": [
    {
     "name": "stdout",
     "output_type": "stream",
     "text": [
      "Combined Approach Accuracy: 0.8063\n"
     ]
    }
   ],
   "source": [
    "anomaly_predictions_3 = np.zeros_like(y_pred_LSTM_3)\n",
    "aTemp_3 = anomaly_indices_3\n",
    "anomaly_predictions_3[aTemp_3] = 1\n",
    "combined_predictions_3= y_pred_LSTM_3 | anomaly_predictions_3\n",
    "\n",
    "\n",
    "# Calculate combined accuracy\n",
    "combined_accuracy_3 = accuracy_score(combined_predictions_3, y_3)\n",
    "print(f\"Combined Approach Accuracy: {combined_accuracy_3:.4f}\")"
   ]
  },
  {
   "cell_type": "code",
   "execution_count": 76,
   "id": "52328986",
   "metadata": {},
   "outputs": [
    {
     "name": "stdout",
     "output_type": "stream",
     "text": [
      "              precision    recall  f1-score   support\n",
      "\n",
      "           0       0.80      0.82      0.81      3906\n",
      "           1       0.82      0.80      0.81      4020\n",
      "\n",
      "    accuracy                           0.81      7926\n",
      "   macro avg       0.81      0.81      0.81      7926\n",
      "weighted avg       0.81      0.81      0.81      7926\n",
      "\n"
     ]
    }
   ],
   "source": [
    "#Classification report for Combined -Dataset #3\n",
    "print(classification_report(y_3,combined_predictions_3))"
   ]
  },
  {
   "cell_type": "code",
   "execution_count": 77,
   "id": "9f9baaf1",
   "metadata": {},
   "outputs": [
    {
     "name": "stdout",
     "output_type": "stream",
     "text": [
      "              precision    recall  f1-score   support\n",
      "\n",
      "           0       0.79      0.82      0.81      3906\n",
      "           1       0.82      0.79      0.81      4020\n",
      "\n",
      "    accuracy                           0.81      7926\n",
      "   macro avg       0.81      0.81      0.81      7926\n",
      "weighted avg       0.81      0.81      0.81      7926\n",
      "\n"
     ]
    }
   ],
   "source": [
    "#Classification report for LSTM - Dataset #3\n",
    "print(classification_report(y_3,y_pred_LSTM_3))"
   ]
  },
  {
   "cell_type": "code",
   "execution_count": 78,
   "id": "211d271c",
   "metadata": {},
   "outputs": [
    {
     "name": "stdout",
     "output_type": "stream",
     "text": [
      "              precision    recall  f1-score   support\n",
      "\n",
      "           0       0.49      0.99      0.66      3906\n",
      "           1       0.60      0.01      0.02      4020\n",
      "\n",
      "    accuracy                           0.49      7926\n",
      "   macro avg       0.55      0.50      0.34      7926\n",
      "weighted avg       0.55      0.49      0.34      7926\n",
      "\n"
     ]
    }
   ],
   "source": [
    "#Classification report for AutoEncoder - Threshold Datast #3\n",
    "print(classification_report(y_3,preds_auto_3))"
   ]
  },
  {
   "cell_type": "code",
   "execution_count": 79,
   "id": "891e7736",
   "metadata": {},
   "outputs": [
    {
     "name": "stdout",
     "output_type": "stream",
     "text": [
      "              precision    recall  f1-score   support\n",
      "\n",
      "           0       0.49      0.99      0.66      3906\n",
      "           1       0.60      0.01      0.02      4020\n",
      "\n",
      "    accuracy                           0.49      7926\n",
      "   macro avg       0.55      0.50      0.34      7926\n",
      "weighted avg       0.55      0.49      0.34      7926\n",
      "\n"
     ]
    }
   ],
   "source": [
    "#Classification report for AutoEncoder - Anomaly Dataset #3\n",
    "print(classification_report(y_3,anomaly_predictions_3))"
   ]
  },
  {
   "cell_type": "code",
   "execution_count": 80,
   "id": "50a63f44",
   "metadata": {},
   "outputs": [
    {
     "name": "stdout",
     "output_type": "stream",
     "text": [
      "              precision    recall  f1-score   support\n",
      "\n",
      "           0       0.82      0.83      0.82      3881\n",
      "           1       0.83      0.83      0.83      4053\n",
      "\n",
      "    accuracy                           0.83      7934\n",
      "   macro avg       0.83      0.83      0.83      7934\n",
      "weighted avg       0.83      0.83      0.83      7934\n",
      "\n"
     ]
    }
   ],
   "source": [
    "#Classification report for Combined - Dataset #2\n",
    "print(classification_report(y_2,combined_predictions_2))"
   ]
  },
  {
   "cell_type": "code",
   "execution_count": 81,
   "id": "605a1213",
   "metadata": {},
   "outputs": [
    {
     "name": "stdout",
     "output_type": "stream",
     "text": [
      "              precision    recall  f1-score   support\n",
      "\n",
      "           0       0.82      0.83      0.82      3881\n",
      "           1       0.83      0.82      0.83      4053\n",
      "\n",
      "    accuracy                           0.83      7934\n",
      "   macro avg       0.83      0.83      0.83      7934\n",
      "weighted avg       0.83      0.83      0.83      7934\n",
      "\n"
     ]
    }
   ],
   "source": [
    "#Classification report for AutoEncoder - LSTM Dataset #2\n",
    "print(classification_report(y_2,y_pred_LSTM_2))"
   ]
  },
  {
   "cell_type": "code",
   "execution_count": 82,
   "id": "1afb80a5",
   "metadata": {},
   "outputs": [
    {
     "name": "stdout",
     "output_type": "stream",
     "text": [
      "              precision    recall  f1-score   support\n",
      "\n",
      "           0       0.49      1.00      0.66      3881\n",
      "           1       0.94      0.02      0.04      4053\n",
      "\n",
      "    accuracy                           0.50      7934\n",
      "   macro avg       0.72      0.51      0.35      7934\n",
      "weighted avg       0.72      0.50      0.34      7934\n",
      "\n"
     ]
    }
   ],
   "source": [
    "#Classification report for AutoEncoder - Threshold Dataset #2\n",
    "print(classification_report(y_2,preds_auto_2))"
   ]
  },
  {
   "cell_type": "code",
   "execution_count": 83,
   "id": "ad20663c",
   "metadata": {},
   "outputs": [
    {
     "name": "stdout",
     "output_type": "stream",
     "text": [
      "              precision    recall  f1-score   support\n",
      "\n",
      "           0       0.49      1.00      0.66      3881\n",
      "           1       0.94      0.02      0.04      4053\n",
      "\n",
      "    accuracy                           0.50      7934\n",
      "   macro avg       0.72      0.51      0.35      7934\n",
      "weighted avg       0.72      0.50      0.34      7934\n",
      "\n"
     ]
    }
   ],
   "source": [
    "#Classification report for AutoEncoder - Anomaly Dataset #2\n",
    "print(classification_report(y_2,anomaly_predictions_2))"
   ]
  },
  {
   "cell_type": "code",
   "execution_count": 84,
   "id": "4e1d38de",
   "metadata": {},
   "outputs": [
    {
     "name": "stdout",
     "output_type": "stream",
     "text": [
      "              precision    recall  f1-score   support\n",
      "\n",
      "           0       0.94      0.91      0.92      1174\n",
      "           1       0.92      0.94      0.93      1308\n",
      "\n",
      "    accuracy                           0.93      2482\n",
      "   macro avg       0.93      0.93      0.93      2482\n",
      "weighted avg       0.93      0.93      0.93      2482\n",
      "\n"
     ]
    }
   ],
   "source": [
    "#Classification report for Combined -Dataset # 1\n",
    "print(classification_report(y_test,combined_predictions_1))"
   ]
  },
  {
   "cell_type": "code",
   "execution_count": 85,
   "id": "6ec86fc6",
   "metadata": {},
   "outputs": [
    {
     "name": "stdout",
     "output_type": "stream",
     "text": [
      "              precision    recall  f1-score   support\n",
      "\n",
      "           0       0.82      0.83      0.82      3881\n",
      "           1       0.83      0.82      0.83      4053\n",
      "\n",
      "    accuracy                           0.83      7934\n",
      "   macro avg       0.83      0.83      0.83      7934\n",
      "weighted avg       0.83      0.83      0.83      7934\n",
      "\n"
     ]
    }
   ],
   "source": [
    "#Classification report for LSTM - Dataset #2\n",
    "print(classification_report(y_2,y_pred_LSTM_2))"
   ]
  },
  {
   "cell_type": "code",
   "execution_count": 86,
   "id": "54057704",
   "metadata": {},
   "outputs": [
    {
     "name": "stdout",
     "output_type": "stream",
     "text": [
      "              precision    recall  f1-score   support\n",
      "\n",
      "           0       0.48      1.00      0.65      1174\n",
      "           1       0.92      0.02      0.03      1308\n",
      "\n",
      "    accuracy                           0.48      2482\n",
      "   macro avg       0.70      0.51      0.34      2482\n",
      "weighted avg       0.71      0.48      0.32      2482\n",
      "\n"
     ]
    }
   ],
   "source": [
    "#Classification report for AutoEncoder - Threshold Dataset #1\n",
    "print(classification_report(y_test,preds_auto_1))"
   ]
  },
  {
   "cell_type": "code",
   "execution_count": 87,
   "id": "095bf742",
   "metadata": {},
   "outputs": [
    {
     "name": "stdout",
     "output_type": "stream",
     "text": [
      "              precision    recall  f1-score   support\n",
      "\n",
      "           0       0.48      1.00      0.65      1174\n",
      "           1       0.92      0.02      0.03      1308\n",
      "\n",
      "    accuracy                           0.48      2482\n",
      "   macro avg       0.70      0.51      0.34      2482\n",
      "weighted avg       0.71      0.48      0.32      2482\n",
      "\n"
     ]
    }
   ],
   "source": [
    "#Classification report for AutoEncoder - Anomaly Approach Dataset #1\n",
    "print(classification_report(y_test,anomaly_predictions_1))"
   ]
  },
  {
   "cell_type": "code",
   "execution_count": 88,
   "id": "2683f5f3",
   "metadata": {},
   "outputs": [
    {
     "name": "stdout",
     "output_type": "stream",
     "text": [
      "AutoEncoderAnomaly Approach Accuracy for Data set # 1: 0.4815\n",
      "AurtoEncoder Anomaly Approach Accuracy for Data set # 2: 0.4980\n",
      "AutoEncoder Anomaly Approach Accuracy for Data set # 3: 0.4948\n"
     ]
    }
   ],
   "source": [
    "Anomaly_accuracy_1 = accuracy_score(anomaly_predictions_1, y_test)\n",
    "print(f\"AutoEncoderAnomaly Approach Accuracy for Data set # 1: {Anomaly_accuracy_1:.4f}\")\n",
    "Anomaly_accuracy_2 = accuracy_score(anomaly_predictions_2, y_2)\n",
    "print(f\"AurtoEncoder Anomaly Approach Accuracy for Data set # 2: {Anomaly_accuracy_2:.4f}\")\n",
    "Anomaly_accuracy_3 = accuracy_score(anomaly_predictions_3, y_3)\n",
    "print(f\"AutoEncoder Anomaly Approach Accuracy for Data set # 3: {Anomaly_accuracy_3:.4f}\")"
   ]
  },
  {
   "cell_type": "code",
   "execution_count": 89,
   "id": "dddd7891",
   "metadata": {},
   "outputs": [
    {
     "data": {
      "text/plain": [
       "Text(45.722222222222214, 0.5, 'Real Labels')"
      ]
     },
     "execution_count": 89,
     "metadata": {},
     "output_type": "execute_result"
    },
    {
     "data": {
      "image/png": "[encoded data removed]",
      "text/plain": [
       "<Figure size 600x300 with 2 Axes>"
      ]
     },
     "metadata": {},
     "output_type": "display_data"
    }
   ],
   "source": [
    "plt.figure(figsize = (6,3))\n",
    "\n",
    "sns.heatmap(confusion_matrix(y_test,preds_auto_1), annot=True, \n",
    "            fmt='', cmap='Blues')\n",
    "\n",
    "plt.xlabel('Predicted Labels')\n",
    "plt.ylabel('Real Labels')"
   ]
  },
  {
   "cell_type": "code",
   "execution_count": 90,
   "id": "5b2803c0",
   "metadata": {},
   "outputs": [
    {
     "data": {
      "text/plain": [
       "Text(45.722222222222214, 0.5, 'Real Labels')"
      ]
     },
     "execution_count": 90,
     "metadata": {},
     "output_type": "execute_result"
    },
    {
     "data": {
      "image/png": "[encoded data removed]",
      "text/plain": [
       "<Figure size 600x300 with 2 Axes>"
      ]
     },
     "metadata": {},
     "output_type": "display_data"
    }
   ],
   "source": [
    "plt.figure(figsize = (6,3))\n",
    "\n",
    "sns.heatmap(confusion_matrix(y_2,preds_auto_2), annot=True, \n",
    "            fmt='', cmap='Blues')\n",
    "\n",
    "plt.xlabel('Predicted Labels')\n",
    "plt.ylabel('Real Labels')"
   ]
  },
  {
   "cell_type": "code",
   "execution_count": 91,
   "id": "f3a9166b",
   "metadata": {},
   "outputs": [
    {
     "data": {
      "text/plain": [
       "Text(45.722222222222214, 0.5, 'Real Labels')"
      ]
     },
     "execution_count": 91,
     "metadata": {},
     "output_type": "execute_result"
    },
    {
     "data": {
      "image/png": "[encoded data removed]",
      "text/plain": [
       "<Figure size 600x300 with 2 Axes>"
      ]
     },
     "metadata": {},
     "output_type": "display_data"
    }
   ],
   "source": [
    "plt.figure(figsize = (6,3))\n",
    "\n",
    "sns.heatmap(confusion_matrix(y_3,preds_auto_3), annot=True, \n",
    "            fmt='', cmap='Blues')\n",
    "\n",
    "plt.xlabel('Predicted Labels')\n",
    "plt.ylabel('Real Labels')"
   ]
  },
  {
   "cell_type": "code",
   "execution_count": 92,
   "id": "91a381b2",
   "metadata": {},
   "outputs": [
    {
     "data": {
      "text/plain": [
       "Text(45.722222222222214, 0.5, 'Real Labels')"
      ]
     },
     "execution_count": 92,
     "metadata": {},
     "output_type": "execute_result"
    },
    {
     "data": {
      "image/png": "[encoded data removed]",
      "text/plain": [
       "<Figure size 600x300 with 2 Axes>"
      ]
     },
     "metadata": {},
     "output_type": "display_data"
    }
   ],
   "source": [
    "plt.figure(figsize = (6,3))\n",
    "\n",
    "sns.heatmap(confusion_matrix(y_test,combined_predictions_1), annot=True, \n",
    "            fmt='', cmap='Blues')\n",
    "\n",
    "plt.xlabel('Predicted Labels')\n",
    "plt.ylabel('Real Labels')"
   ]
  },
  {
   "cell_type": "code",
   "execution_count": 93,
   "id": "2f302609",
   "metadata": {},
   "outputs": [
    {
     "data": {
      "text/plain": [
       "Text(45.722222222222214, 0.5, 'Real Labels')"
      ]
     },
     "execution_count": 93,
     "metadata": {},
     "output_type": "execute_result"
    },
    {
     "data": {
      "image/png": "[encoded data removed]",
      "text/plain": [
       "<Figure size 600x300 with 2 Axes>"
      ]
     },
     "metadata": {},
     "output_type": "display_data"
    }
   ],
   "source": [
    "plt.figure(figsize = (6,3))\n",
    "\n",
    "sns.heatmap(confusion_matrix(y_2,combined_predictions_2), annot=True, \n",
    "            fmt='', cmap='Blues')\n",
    "\n",
    "plt.xlabel('Predicted Labels')\n",
    "plt.ylabel('Real Labels')"
   ]
  },
  {
   "cell_type": "code",
   "execution_count": 94,
   "id": "ce34254e",
   "metadata": {},
   "outputs": [
    {
     "data": {
      "text/plain": [
       "Text(45.722222222222214, 0.5, 'Real Labels')"
      ]
     },
     "execution_count": 94,
     "metadata": {},
     "output_type": "execute_result"
    },
    {
     "data": {
      "image/png": "[encoded data removed]",
      "text/plain": [
       "<Figure size 600x300 with 2 Axes>"
      ]
     },
     "metadata": {},
     "output_type": "display_data"
    }
   ],
   "source": [
    "plt.figure(figsize = (6,3))\n",
    "\n",
    "sns.heatmap(confusion_matrix(y_3,combined_predictions_3), annot=True, \n",
    "            fmt='', cmap='Blues')\n",
    "\n",
    "plt.xlabel('Predicted Labels')\n",
    "plt.ylabel('Real Labels')"
   ]
  },
  {
   "cell_type": "code",
   "execution_count": null,
   "id": "46adc3ec",
   "metadata": {},
   "outputs": [],
   "source": []
  },
  {
   "cell_type": "code",
   "execution_count": null,
   "id": "7f491630",
   "metadata": {},
   "outputs": [],
   "source": []
  }
 ],
 "metadata": {
  "kernelspec": {
   "display_name": "Python 3 (ipykernel)",
   "language": "python",
   "name": "python3"
  },
  "language_info": {
   "codemirror_mode": {
    "name": "ipython",
    "version": 3
   },
   "file_extension": ".py",
   "mimetype": "text/x-python",
   "name": "python",
   "nbconvert_exporter": "python",
   "pygments_lexer": "ipython3",
   "version": "3.10.9"
  }
 },
 "nbformat": 4,
 "nbformat_minor": 5
}
